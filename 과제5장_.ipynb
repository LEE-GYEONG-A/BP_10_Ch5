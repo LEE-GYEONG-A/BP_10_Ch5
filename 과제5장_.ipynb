{
  "nbformat": 4,
  "nbformat_minor": 0,
  "metadata": {
    "colab": {
      "provenance": [],
      "collapsed_sections": [],
      "authorship_tag": "ABX9TyN8/QyCWyyZPyH17emoHThn",
      "include_colab_link": true
    },
    "kernelspec": {
      "name": "python3",
      "display_name": "Python 3"
    },
    "language_info": {
      "name": "python"
    }
  },
  "cells": [
    {
      "cell_type": "markdown",
      "metadata": {
        "id": "view-in-github",
        "colab_type": "text"
      },
      "source": [
        "<a href=\"https://colab.research.google.com/github/LEE-GYEONG-A/BP_10_Ch5/blob/main/%EA%B3%BC%EC%A0%9C5%EC%9E%A5_.ipynb\" target=\"_parent\"><img src=\"https://colab.research.google.com/assets/colab-badge.svg\" alt=\"Open In Colab\"/></a>"
      ]
    },
    {
      "cell_type": "code",
      "execution_count": null,
      "metadata": {
        "colab": {
          "base_uri": "https://localhost:8080/"
        },
        "id": "xrdJ_nmH4KW2",
        "outputId": "9786324d-72d2-4889-d37b-76521604cf46"
      },
      "outputs": [
        {
          "output_type": "stream",
          "name": "stdout",
          "text": [
            "나이를 입력하시오.:20\n",
            "20살 이상\n"
          ]
        }
      ],
      "source": [
        "#1번 문제\n",
        "age = int(input(\"나이를 입력하시오.:\")) #사용자로부터 나이 입력 받음\n",
        "if age <20:          #입력받는 값이 20 미만일 경우\n",
        "  print('20살 미만') #입력받는 값이 20 미만일 때 출력되는 값 (참)\n",
        "else:                #입력받는 값이 20 미만이 아닐 경우\n",
        "  print('20살 이상') #입력받는 값이 20 이상일 때 출력되는 값 "
      ]
    },
    {
      "cell_type": "code",
      "source": [
        "#2번 문제\n",
        "age = int(input(\"나이를 입력하시오.:\")) #사용자로부터 나이 입력 받음\n",
        "if age >= 30 and age <= 50:            #입력받은 값이 30 이상, 50 이하일 경우\n",
        "  print('30살 이상이고 50살 이하')"
      ],
      "metadata": {
        "colab": {
          "base_uri": "https://localhost:8080/"
        },
        "id": "n6AvQWmQ4SGW",
        "outputId": "3daf353c-5dea-4dc7-e4a6-1e7e7da50056"
      },
      "execution_count": null,
      "outputs": [
        {
          "output_type": "stream",
          "name": "stdout",
          "text": [
            "나이를 입력하시오.:30\n",
            "30살 이상이고 50살 이하\n"
          ]
        }
      ]
    },
    {
      "cell_type": "code",
      "source": [
        "#3번 문제\n",
        "temp = int(input(\"현재 온도를 입력하시오.:\")) #사용자로부터 온도 입력 받음\n",
        "\n",
        "if temp >= 25: #조건문: 입력 받은 온도가 25도 이상일 때, 반바지를 추천함.\n",
        "  print('반바지를 추천합니다.')\n",
        "else: #위의 조건문에 포함되지 않을 때 \n",
        "  print('긴바지를 추천합니다.')"
      ],
      "metadata": {
        "colab": {
          "base_uri": "https://localhost:8080/"
        },
        "id": "pUNmBB7x_q4_",
        "outputId": "6066221d-c8ad-44e6-ed83-b18c94af7f5e"
      },
      "execution_count": null,
      "outputs": [
        {
          "output_type": "stream",
          "name": "stdout",
          "text": [
            "현재 온도를 입력하시오.:17\n",
            "긴바지를 추천합니다.\n"
          ]
        }
      ]
    },
    {
      "cell_type": "code",
      "source": [
        "#4번 문제\n",
        "score = int(input(\"성적을 입력하시오.:\")) # 사용자로부터 성적을 입력 받음\n",
        "if score >= 90: \n",
        "  print('A학점입니다.')\n",
        "elif score >= 80:\n",
        "  print('B학점입니다.')\n",
        "elif score >= 70:\n",
        "  print('C학점입니다.')\n",
        "elif score >= 60:\n",
        "  print('D학점입니다.')\n",
        "else:\n",
        "  print('F학점입니다.')"
      ],
      "metadata": {
        "colab": {
          "base_uri": "https://localhost:8080/"
        },
        "id": "IeMkkJDlAULj",
        "outputId": "41650cb1-5d45-42a0-c3d8-32f451e59f68"
      },
      "execution_count": null,
      "outputs": [
        {
          "output_type": "stream",
          "name": "stdout",
          "text": [
            "성적을 입력하시오.:99\n",
            "A학점입니다.\n"
          ]
        }
      ]
    },
    {
      "cell_type": "code",
      "source": [
        "#5번 문제\n",
        "import random #random 선언\n",
        "x = random.randint(1,100) #1~100까지의 랜덤한 숫자를 변수 x에 선언\n",
        "y = random.randint(1,100) #1~100까지의 랜덤한 숫자를 변수 y에 선언\n",
        "\n",
        "ans = int(input(str(x)+\"-\"+str(y)+\"=\")) #위에 x,y 변수에서 입력받아 뺄셈 문제 생성\n",
        "\n",
        "if ans == x-y :\n",
        "  print(\"맞았습니다.\")\n",
        "else:\n",
        "  print(\"틀렸습니다.\")"
      ],
      "metadata": {
        "colab": {
          "base_uri": "https://localhost:8080/"
        },
        "id": "nvWUfxu1CElQ",
        "outputId": "8b439440-adba-4ea4-95fd-28b69d3e1158"
      },
      "execution_count": null,
      "outputs": [
        {
          "output_type": "stream",
          "name": "stdout",
          "text": [
            "73-4=12\n",
            "틀렸습니다.\n"
          ]
        }
      ]
    },
    {
      "cell_type": "code",
      "source": [
        "#6번 문제\n",
        "n = int(input(\"정수를 입력하시오.:\")) #사용자로부터 정수 입력 받음\n",
        "\n",
        "if n%2==0 and n%3==0:                #(해석:)만약 2와 3으로 나누었을 때 값으로 0이 되면\n",
        "  print('2와 3으로 나누어 떨어집니다.')\n",
        "else:                                #if문 제외의 값이 나올 때\n",
        "   print('2와 3으로 나누어 떨어지 않습니다.')"
      ],
      "metadata": {
        "id": "yb6iJ3Q9Dtmo",
        "colab": {
          "base_uri": "https://localhost:8080/"
        },
        "outputId": "b5edc06b-0f53-4e9d-cef2-07b127dde0e9"
      },
      "execution_count": 1,
      "outputs": [
        {
          "output_type": "stream",
          "name": "stdout",
          "text": [
            "정수를 입력하시오.:6\n",
            "2와 3으로 나누어 떨어집니다.\n"
          ]
        }
      ]
    },
    {
      "cell_type": "code",
      "source": [
        "#7번 문제\n",
        "import random #random함수 선언\n",
        "\n",
        "ㅣotto = random.randint(0,99)\n",
        "user = int(input(\"복권번호를 입력하시오(범위: 0~99):\")) #사용자로부터 복권번호 입력 받음\n",
        "\n",
        "digit1 = ㅣotto // 10 #복권번호의 앞자리 값 추출\n",
        "digit2 = ㅣotto % 10  #복권번호의 뒷자리 값 추출\n",
        "\n",
        "u_digit1 = user // 10 #사용자로부터 받은 값의 앞자리 값 추출\n",
        "u_digit2 = user % 10  #사용자로부터 받은 값의 뒷자리 값 추출\n",
        "\n",
        "print(\"당첨범호는\", ㅣotto, \"입니다.\") #당첨번호 출력\n",
        "\n",
        "if (digit1 == u_digit1 and digit2 == u_digit2): #복권이 당첨되는 경우의 수 입력\n",
        "  print(\"상금은 100만원입니다.\")\n",
        "elif (digit1 == u_digit1\n",
        "      or digit1 == u_digit2\n",
        "      or digit2 == u_digit1\n",
        "      or digit2 == u_digit2):\n",
        "  print(\"상금은 50만원입니다.\")\n",
        "else:\n",
        "  print(\"상금은 없습니다.\")"
      ],
      "metadata": {
        "colab": {
          "base_uri": "https://localhost:8080/"
        },
        "id": "YYbGHFeWGIGR",
        "outputId": "9767e6fd-f329-4ec7-c84f-93fd89e824e0"
      },
      "execution_count": 2,
      "outputs": [
        {
          "output_type": "stream",
          "name": "stdout",
          "text": [
            "복권번호를 입력하시오(범위: 0~99):39\n",
            "당첨범호는 36 입니다.\n",
            "상금은 50만원입니다.\n"
          ]
        }
      ]
    },
    {
      "cell_type": "code",
      "source": [
        "#8번 문제\n",
        "import turtle          #turtle문 선언\n",
        "t = turtle.Turtle()   #변수 t에 turtle.Turtle()을 선언\n",
        "t.shape('turtle')     # 거북이모양으로 표시함을 선언\n",
        "\n",
        "x1 = int(input(\"큰 원의 중심좌표 x1:\"))        #사용자로부터 큰 원의 중심좌표 x1을 입력받음\n",
        "y1 = int(input(\"큰 원의 중심좌표 y1:\"))        #사용자로부터 큰 원의 중심좌표 y1을 입력받음\n",
        "r1 = int(input(\"큰 원의 반지름: \"))            #사용자로부터 큰 원의 반지름을 입력 받음\n",
        "x2 = int(input(\"작은 원의 중심좌표 x2:\"))      #사용자로부터 작은 원의 중심좌표 x2를 입력받음\n",
        "y2 = int(input(\"작은 원의 중심좌표 y2:\"))      #사용자로부터 작은 원의 중심좌표 y2를 입력받음\n",
        "r2 = int(input(\"작은 원의 반지름: \"))          #사용자로부터 작은 원의 반지름을 입력 받음\n",
        "\n",
        "t.penup()         #보드에 pen이 올라감\n",
        "t.goto(x1, y1)    #좌표 (x1, y1)으로 이동\n",
        "t.pendown()       #보드에 pen이 내려감\n",
        "t.circle(r1)      #입력 받은 원의 반지름 크기대로 원을 그림\n",
        "\n",
        "t.penup()        #보드에 pen이 올라감\n",
        "t.goto(x2, y2)   #좌표 (x2, y2)으로 이동\n",
        "t.pendown()      #보드에 pen이 내려감\n",
        "t.circle(r2)     #입력 받은 원의 반지름 크기대로 원을 그림\n",
        "\n",
        "dist = ((x1 - x2) * (x1 - x2) + (y1 - y2) * (y1 - y2)) ** 0.5 #\n",
        "if dist <= r1 -r2:                                        #두번 째 원이 첫번 째의 내부에 있는 경우의 if문\n",
        "  turtle.write(\"두번 째 원이 첫번 째의 내부에 있습니다.\")\n",
        "elif dist <= r1 + r2:                                    #두번 째 원이 첫번 째 원과 겹치는 경우의 elif문\n",
        "  turtle.write(\"두번 째 원이 첫번 째 원과 겹칩니다.\")\n",
        "else:                                                    #위의 조건문에 해당되지 않는 경우\n",
        "  turtle.write(\"두번 째 원이 첫번 째 원과 겹치지 않습니다.\")\n",
        "t._screen.exitonclick()                                  #화면을 마우스로 클릭해야 종료되게 하는 부분"
      ],
      "metadata": {
        "id": "CIqgaRAyNbJa",
        "colab": {
          "base_uri": "https://localhost:8080/",
          "height": 405
        },
        "outputId": "144975c9-582b-48ca-b950-b31442d259ac"
      },
      "execution_count": 3,
      "outputs": [
        {
          "output_type": "error",
          "ename": "TclError",
          "evalue": "ignored",
          "traceback": [
            "\u001b[0;31m---------------------------------------------------------------------------\u001b[0m",
            "\u001b[0;31mTclError\u001b[0m                                  Traceback (most recent call last)",
            "\u001b[0;32m<ipython-input-3-9031203dbc7e>\u001b[0m in \u001b[0;36m<module>\u001b[0;34m\u001b[0m\n\u001b[1;32m      1\u001b[0m \u001b[0;31m#8번 문제\u001b[0m\u001b[0;34m\u001b[0m\u001b[0;34m\u001b[0m\u001b[0;34m\u001b[0m\u001b[0m\n\u001b[1;32m      2\u001b[0m \u001b[0;32mimport\u001b[0m \u001b[0mturtle\u001b[0m          \u001b[0;31m#turtle문 선언\u001b[0m\u001b[0;34m\u001b[0m\u001b[0;34m\u001b[0m\u001b[0m\n\u001b[0;32m----> 3\u001b[0;31m \u001b[0mt\u001b[0m \u001b[0;34m=\u001b[0m \u001b[0mturtle\u001b[0m\u001b[0;34m.\u001b[0m\u001b[0mTurtle\u001b[0m\u001b[0;34m(\u001b[0m\u001b[0;34m)\u001b[0m   \u001b[0;31m#변수 t에 turtle.Turtle()을 선언\u001b[0m\u001b[0;34m\u001b[0m\u001b[0;34m\u001b[0m\u001b[0m\n\u001b[0m\u001b[1;32m      4\u001b[0m \u001b[0mt\u001b[0m\u001b[0;34m.\u001b[0m\u001b[0mshape\u001b[0m\u001b[0;34m(\u001b[0m\u001b[0;34m'turtle'\u001b[0m\u001b[0;34m)\u001b[0m     \u001b[0;31m# 거북이모양으로 표시함을 선언\u001b[0m\u001b[0;34m\u001b[0m\u001b[0;34m\u001b[0m\u001b[0m\n\u001b[1;32m      5\u001b[0m \u001b[0;34m\u001b[0m\u001b[0m\n",
            "\u001b[0;32m/usr/lib/python3.7/turtle.py\u001b[0m in \u001b[0;36m__init__\u001b[0;34m(self, shape, undobuffersize, visible)\u001b[0m\n\u001b[1;32m   3810\u001b[0m                  visible=_CFG[\"visible\"]):\n\u001b[1;32m   3811\u001b[0m         \u001b[0;32mif\u001b[0m \u001b[0mTurtle\u001b[0m\u001b[0;34m.\u001b[0m\u001b[0m_screen\u001b[0m \u001b[0;32mis\u001b[0m \u001b[0;32mNone\u001b[0m\u001b[0;34m:\u001b[0m\u001b[0;34m\u001b[0m\u001b[0;34m\u001b[0m\u001b[0m\n\u001b[0;32m-> 3812\u001b[0;31m             \u001b[0mTurtle\u001b[0m\u001b[0;34m.\u001b[0m\u001b[0m_screen\u001b[0m \u001b[0;34m=\u001b[0m \u001b[0mScreen\u001b[0m\u001b[0;34m(\u001b[0m\u001b[0;34m)\u001b[0m\u001b[0;34m\u001b[0m\u001b[0;34m\u001b[0m\u001b[0m\n\u001b[0m\u001b[1;32m   3813\u001b[0m         RawTurtle.__init__(self, Turtle._screen,\n\u001b[1;32m   3814\u001b[0m                            \u001b[0mshape\u001b[0m\u001b[0;34m=\u001b[0m\u001b[0mshape\u001b[0m\u001b[0;34m,\u001b[0m\u001b[0;34m\u001b[0m\u001b[0;34m\u001b[0m\u001b[0m\n",
            "\u001b[0;32m/usr/lib/python3.7/turtle.py\u001b[0m in \u001b[0;36mScreen\u001b[0;34m()\u001b[0m\n\u001b[1;32m   3660\u001b[0m     else return the existing one.\"\"\"\n\u001b[1;32m   3661\u001b[0m     \u001b[0;32mif\u001b[0m \u001b[0mTurtle\u001b[0m\u001b[0;34m.\u001b[0m\u001b[0m_screen\u001b[0m \u001b[0;32mis\u001b[0m \u001b[0;32mNone\u001b[0m\u001b[0;34m:\u001b[0m\u001b[0;34m\u001b[0m\u001b[0;34m\u001b[0m\u001b[0m\n\u001b[0;32m-> 3662\u001b[0;31m         \u001b[0mTurtle\u001b[0m\u001b[0;34m.\u001b[0m\u001b[0m_screen\u001b[0m \u001b[0;34m=\u001b[0m \u001b[0m_Screen\u001b[0m\u001b[0;34m(\u001b[0m\u001b[0;34m)\u001b[0m\u001b[0;34m\u001b[0m\u001b[0;34m\u001b[0m\u001b[0m\n\u001b[0m\u001b[1;32m   3663\u001b[0m     \u001b[0;32mreturn\u001b[0m \u001b[0mTurtle\u001b[0m\u001b[0;34m.\u001b[0m\u001b[0m_screen\u001b[0m\u001b[0;34m\u001b[0m\u001b[0;34m\u001b[0m\u001b[0m\n\u001b[1;32m   3664\u001b[0m \u001b[0;34m\u001b[0m\u001b[0m\n",
            "\u001b[0;32m/usr/lib/python3.7/turtle.py\u001b[0m in \u001b[0;36m__init__\u001b[0;34m(self)\u001b[0m\n\u001b[1;32m   3676\u001b[0m         \u001b[0;31m# preserved (perhaps by passing it as an optional parameter)\u001b[0m\u001b[0;34m\u001b[0m\u001b[0;34m\u001b[0m\u001b[0;34m\u001b[0m\u001b[0m\n\u001b[1;32m   3677\u001b[0m         \u001b[0;32mif\u001b[0m \u001b[0m_Screen\u001b[0m\u001b[0;34m.\u001b[0m\u001b[0m_root\u001b[0m \u001b[0;32mis\u001b[0m \u001b[0;32mNone\u001b[0m\u001b[0;34m:\u001b[0m\u001b[0;34m\u001b[0m\u001b[0;34m\u001b[0m\u001b[0m\n\u001b[0;32m-> 3678\u001b[0;31m             \u001b[0m_Screen\u001b[0m\u001b[0;34m.\u001b[0m\u001b[0m_root\u001b[0m \u001b[0;34m=\u001b[0m \u001b[0mself\u001b[0m\u001b[0;34m.\u001b[0m\u001b[0m_root\u001b[0m \u001b[0;34m=\u001b[0m \u001b[0m_Root\u001b[0m\u001b[0;34m(\u001b[0m\u001b[0;34m)\u001b[0m\u001b[0;34m\u001b[0m\u001b[0;34m\u001b[0m\u001b[0m\n\u001b[0m\u001b[1;32m   3679\u001b[0m             \u001b[0mself\u001b[0m\u001b[0;34m.\u001b[0m\u001b[0m_root\u001b[0m\u001b[0;34m.\u001b[0m\u001b[0mtitle\u001b[0m\u001b[0;34m(\u001b[0m\u001b[0m_Screen\u001b[0m\u001b[0;34m.\u001b[0m\u001b[0m_title\u001b[0m\u001b[0;34m)\u001b[0m\u001b[0;34m\u001b[0m\u001b[0;34m\u001b[0m\u001b[0m\n\u001b[1;32m   3680\u001b[0m             \u001b[0mself\u001b[0m\u001b[0;34m.\u001b[0m\u001b[0m_root\u001b[0m\u001b[0;34m.\u001b[0m\u001b[0mondestroy\u001b[0m\u001b[0;34m(\u001b[0m\u001b[0mself\u001b[0m\u001b[0;34m.\u001b[0m\u001b[0m_destroy\u001b[0m\u001b[0;34m)\u001b[0m\u001b[0;34m\u001b[0m\u001b[0;34m\u001b[0m\u001b[0m\n",
            "\u001b[0;32m/usr/lib/python3.7/turtle.py\u001b[0m in \u001b[0;36m__init__\u001b[0;34m(self)\u001b[0m\n\u001b[1;32m    432\u001b[0m     \u001b[0;34m\"\"\"Root class for Screen based on Tkinter.\"\"\"\u001b[0m\u001b[0;34m\u001b[0m\u001b[0;34m\u001b[0m\u001b[0m\n\u001b[1;32m    433\u001b[0m     \u001b[0;32mdef\u001b[0m \u001b[0m__init__\u001b[0m\u001b[0;34m(\u001b[0m\u001b[0mself\u001b[0m\u001b[0;34m)\u001b[0m\u001b[0;34m:\u001b[0m\u001b[0;34m\u001b[0m\u001b[0;34m\u001b[0m\u001b[0m\n\u001b[0;32m--> 434\u001b[0;31m         \u001b[0mTK\u001b[0m\u001b[0;34m.\u001b[0m\u001b[0mTk\u001b[0m\u001b[0;34m.\u001b[0m\u001b[0m__init__\u001b[0m\u001b[0;34m(\u001b[0m\u001b[0mself\u001b[0m\u001b[0;34m)\u001b[0m\u001b[0;34m\u001b[0m\u001b[0;34m\u001b[0m\u001b[0m\n\u001b[0m\u001b[1;32m    435\u001b[0m \u001b[0;34m\u001b[0m\u001b[0m\n\u001b[1;32m    436\u001b[0m     \u001b[0;32mdef\u001b[0m \u001b[0msetupcanvas\u001b[0m\u001b[0;34m(\u001b[0m\u001b[0mself\u001b[0m\u001b[0;34m,\u001b[0m \u001b[0mwidth\u001b[0m\u001b[0;34m,\u001b[0m \u001b[0mheight\u001b[0m\u001b[0;34m,\u001b[0m \u001b[0mcwidth\u001b[0m\u001b[0;34m,\u001b[0m \u001b[0mcheight\u001b[0m\u001b[0;34m)\u001b[0m\u001b[0;34m:\u001b[0m\u001b[0;34m\u001b[0m\u001b[0;34m\u001b[0m\u001b[0m\n",
            "\u001b[0;32m/usr/lib/python3.7/tkinter/__init__.py\u001b[0m in \u001b[0;36m__init__\u001b[0;34m(self, screenName, baseName, className, useTk, sync, use)\u001b[0m\n\u001b[1;32m   2021\u001b[0m                 \u001b[0mbaseName\u001b[0m \u001b[0;34m=\u001b[0m \u001b[0mbaseName\u001b[0m \u001b[0;34m+\u001b[0m \u001b[0mext\u001b[0m\u001b[0;34m\u001b[0m\u001b[0;34m\u001b[0m\u001b[0m\n\u001b[1;32m   2022\u001b[0m         \u001b[0minteractive\u001b[0m \u001b[0;34m=\u001b[0m \u001b[0;36m0\u001b[0m\u001b[0;34m\u001b[0m\u001b[0;34m\u001b[0m\u001b[0m\n\u001b[0;32m-> 2023\u001b[0;31m         \u001b[0mself\u001b[0m\u001b[0;34m.\u001b[0m\u001b[0mtk\u001b[0m \u001b[0;34m=\u001b[0m \u001b[0m_tkinter\u001b[0m\u001b[0;34m.\u001b[0m\u001b[0mcreate\u001b[0m\u001b[0;34m(\u001b[0m\u001b[0mscreenName\u001b[0m\u001b[0;34m,\u001b[0m \u001b[0mbaseName\u001b[0m\u001b[0;34m,\u001b[0m \u001b[0mclassName\u001b[0m\u001b[0;34m,\u001b[0m \u001b[0minteractive\u001b[0m\u001b[0;34m,\u001b[0m \u001b[0mwantobjects\u001b[0m\u001b[0;34m,\u001b[0m \u001b[0museTk\u001b[0m\u001b[0;34m,\u001b[0m \u001b[0msync\u001b[0m\u001b[0;34m,\u001b[0m \u001b[0muse\u001b[0m\u001b[0;34m)\u001b[0m\u001b[0;34m\u001b[0m\u001b[0;34m\u001b[0m\u001b[0m\n\u001b[0m\u001b[1;32m   2024\u001b[0m         \u001b[0;32mif\u001b[0m \u001b[0museTk\u001b[0m\u001b[0;34m:\u001b[0m\u001b[0;34m\u001b[0m\u001b[0;34m\u001b[0m\u001b[0m\n\u001b[1;32m   2025\u001b[0m             \u001b[0mself\u001b[0m\u001b[0;34m.\u001b[0m\u001b[0m_loadtk\u001b[0m\u001b[0;34m(\u001b[0m\u001b[0;34m)\u001b[0m\u001b[0;34m\u001b[0m\u001b[0;34m\u001b[0m\u001b[0m\n",
            "\u001b[0;31mTclError\u001b[0m: no display name and no $DISPLAY environment variable"
          ]
        }
      ]
    }
  ]
}